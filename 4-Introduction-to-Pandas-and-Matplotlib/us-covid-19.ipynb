{
 "cells": [
  {
   "cell_type": "code",
   "execution_count": 2,
   "metadata": {},
   "outputs": [],
   "source": [
    "#To use the functionalities provided by pandas package, we should import it.\n",
    "#by using import ... as ... structure, now in the program we can refer to pandas as pd\n",
    "import pandas as pd\n",
    "#Our plotting functions are located under the pyplot subpackage of matplotlib, so we have to import this subpackage\n",
    "import matplotlib.pyplot as plt"
   ]
  },
  {
   "cell_type": "code",
   "execution_count": 3,
   "metadata": {},
   "outputs": [],
   "source": [
    "#in order to read a csv file, we use read_csv(filename) function from pandas library. It reads the file and creates a\n",
    "#creates a data frame from the data. A dataframe consists of rows and columns.\n",
    "df = pd.read_csv(\"us-counties.csv\")"
   ]
  },
  {
   "cell_type": "code",
   "execution_count": 4,
   "metadata": {},
   "outputs": [
    {
     "data": {
      "text/html": [
       "<div>\n",
       "<style scoped>\n",
       "    .dataframe tbody tr th:only-of-type {\n",
       "        vertical-align: middle;\n",
       "    }\n",
       "\n",
       "    .dataframe tbody tr th {\n",
       "        vertical-align: top;\n",
       "    }\n",
       "\n",
       "    .dataframe thead th {\n",
       "        text-align: right;\n",
       "    }\n",
       "</style>\n",
       "<table border=\"1\" class=\"dataframe\">\n",
       "  <thead>\n",
       "    <tr style=\"text-align: right;\">\n",
       "      <th></th>\n",
       "      <th>date</th>\n",
       "      <th>county</th>\n",
       "      <th>state</th>\n",
       "      <th>fips</th>\n",
       "      <th>cases</th>\n",
       "      <th>deaths</th>\n",
       "    </tr>\n",
       "  </thead>\n",
       "  <tbody>\n",
       "    <tr>\n",
       "      <th>0</th>\n",
       "      <td>2020-01-21</td>\n",
       "      <td>Snohomish</td>\n",
       "      <td>Washington</td>\n",
       "      <td>53061.0</td>\n",
       "      <td>1</td>\n",
       "      <td>0</td>\n",
       "    </tr>\n",
       "    <tr>\n",
       "      <th>1</th>\n",
       "      <td>2020-01-22</td>\n",
       "      <td>Snohomish</td>\n",
       "      <td>Washington</td>\n",
       "      <td>53061.0</td>\n",
       "      <td>1</td>\n",
       "      <td>0</td>\n",
       "    </tr>\n",
       "    <tr>\n",
       "      <th>2</th>\n",
       "      <td>2020-01-23</td>\n",
       "      <td>Snohomish</td>\n",
       "      <td>Washington</td>\n",
       "      <td>53061.0</td>\n",
       "      <td>1</td>\n",
       "      <td>0</td>\n",
       "    </tr>\n",
       "    <tr>\n",
       "      <th>3</th>\n",
       "      <td>2020-01-24</td>\n",
       "      <td>Cook</td>\n",
       "      <td>Illinois</td>\n",
       "      <td>17031.0</td>\n",
       "      <td>1</td>\n",
       "      <td>0</td>\n",
       "    </tr>\n",
       "    <tr>\n",
       "      <th>4</th>\n",
       "      <td>2020-01-24</td>\n",
       "      <td>Snohomish</td>\n",
       "      <td>Washington</td>\n",
       "      <td>53061.0</td>\n",
       "      <td>1</td>\n",
       "      <td>0</td>\n",
       "    </tr>\n",
       "    <tr>\n",
       "      <th>...</th>\n",
       "      <td>...</td>\n",
       "      <td>...</td>\n",
       "      <td>...</td>\n",
       "      <td>...</td>\n",
       "      <td>...</td>\n",
       "      <td>...</td>\n",
       "    </tr>\n",
       "    <tr>\n",
       "      <th>67451</th>\n",
       "      <td>2020-04-17</td>\n",
       "      <td>Sublette</td>\n",
       "      <td>Wyoming</td>\n",
       "      <td>56035.0</td>\n",
       "      <td>1</td>\n",
       "      <td>0</td>\n",
       "    </tr>\n",
       "    <tr>\n",
       "      <th>67452</th>\n",
       "      <td>2020-04-17</td>\n",
       "      <td>Sweetwater</td>\n",
       "      <td>Wyoming</td>\n",
       "      <td>56037.0</td>\n",
       "      <td>10</td>\n",
       "      <td>0</td>\n",
       "    </tr>\n",
       "    <tr>\n",
       "      <th>67453</th>\n",
       "      <td>2020-04-17</td>\n",
       "      <td>Teton</td>\n",
       "      <td>Wyoming</td>\n",
       "      <td>56039.0</td>\n",
       "      <td>61</td>\n",
       "      <td>0</td>\n",
       "    </tr>\n",
       "    <tr>\n",
       "      <th>67454</th>\n",
       "      <td>2020-04-17</td>\n",
       "      <td>Uinta</td>\n",
       "      <td>Wyoming</td>\n",
       "      <td>56041.0</td>\n",
       "      <td>6</td>\n",
       "      <td>0</td>\n",
       "    </tr>\n",
       "    <tr>\n",
       "      <th>67455</th>\n",
       "      <td>2020-04-17</td>\n",
       "      <td>Washakie</td>\n",
       "      <td>Wyoming</td>\n",
       "      <td>56043.0</td>\n",
       "      <td>4</td>\n",
       "      <td>0</td>\n",
       "    </tr>\n",
       "  </tbody>\n",
       "</table>\n",
       "<p>67456 rows × 6 columns</p>\n",
       "</div>"
      ],
      "text/plain": [
       "             date      county       state     fips  cases  deaths\n",
       "0      2020-01-21   Snohomish  Washington  53061.0      1       0\n",
       "1      2020-01-22   Snohomish  Washington  53061.0      1       0\n",
       "2      2020-01-23   Snohomish  Washington  53061.0      1       0\n",
       "3      2020-01-24        Cook    Illinois  17031.0      1       0\n",
       "4      2020-01-24   Snohomish  Washington  53061.0      1       0\n",
       "...           ...         ...         ...      ...    ...     ...\n",
       "67451  2020-04-17    Sublette     Wyoming  56035.0      1       0\n",
       "67452  2020-04-17  Sweetwater     Wyoming  56037.0     10       0\n",
       "67453  2020-04-17       Teton     Wyoming  56039.0     61       0\n",
       "67454  2020-04-17       Uinta     Wyoming  56041.0      6       0\n",
       "67455  2020-04-17    Washakie     Wyoming  56043.0      4       0\n",
       "\n",
       "[67456 rows x 6 columns]"
      ]
     },
     "execution_count": 4,
     "metadata": {},
     "output_type": "execute_result"
    }
   ],
   "source": [
    "#you can just print the data frame like that, but as you see there are lots of rows. All of them can't be displayes at once.\n",
    "df"
   ]
  },
  {
   "cell_type": "code",
   "execution_count": 5,
   "metadata": {},
   "outputs": [
    {
     "data": {
      "text/html": [
       "<div>\n",
       "<style scoped>\n",
       "    .dataframe tbody tr th:only-of-type {\n",
       "        vertical-align: middle;\n",
       "    }\n",
       "\n",
       "    .dataframe tbody tr th {\n",
       "        vertical-align: top;\n",
       "    }\n",
       "\n",
       "    .dataframe thead th {\n",
       "        text-align: right;\n",
       "    }\n",
       "</style>\n",
       "<table border=\"1\" class=\"dataframe\">\n",
       "  <thead>\n",
       "    <tr style=\"text-align: right;\">\n",
       "      <th></th>\n",
       "      <th>date</th>\n",
       "      <th>county</th>\n",
       "      <th>state</th>\n",
       "      <th>fips</th>\n",
       "      <th>cases</th>\n",
       "      <th>deaths</th>\n",
       "    </tr>\n",
       "  </thead>\n",
       "  <tbody>\n",
       "    <tr>\n",
       "      <th>0</th>\n",
       "      <td>2020-01-21</td>\n",
       "      <td>Snohomish</td>\n",
       "      <td>Washington</td>\n",
       "      <td>53061.0</td>\n",
       "      <td>1</td>\n",
       "      <td>0</td>\n",
       "    </tr>\n",
       "    <tr>\n",
       "      <th>1</th>\n",
       "      <td>2020-01-22</td>\n",
       "      <td>Snohomish</td>\n",
       "      <td>Washington</td>\n",
       "      <td>53061.0</td>\n",
       "      <td>1</td>\n",
       "      <td>0</td>\n",
       "    </tr>\n",
       "    <tr>\n",
       "      <th>2</th>\n",
       "      <td>2020-01-23</td>\n",
       "      <td>Snohomish</td>\n",
       "      <td>Washington</td>\n",
       "      <td>53061.0</td>\n",
       "      <td>1</td>\n",
       "      <td>0</td>\n",
       "    </tr>\n",
       "    <tr>\n",
       "      <th>3</th>\n",
       "      <td>2020-01-24</td>\n",
       "      <td>Cook</td>\n",
       "      <td>Illinois</td>\n",
       "      <td>17031.0</td>\n",
       "      <td>1</td>\n",
       "      <td>0</td>\n",
       "    </tr>\n",
       "    <tr>\n",
       "      <th>4</th>\n",
       "      <td>2020-01-24</td>\n",
       "      <td>Snohomish</td>\n",
       "      <td>Washington</td>\n",
       "      <td>53061.0</td>\n",
       "      <td>1</td>\n",
       "      <td>0</td>\n",
       "    </tr>\n",
       "  </tbody>\n",
       "</table>\n",
       "</div>"
      ],
      "text/plain": [
       "         date     county       state     fips  cases  deaths\n",
       "0  2020-01-21  Snohomish  Washington  53061.0      1       0\n",
       "1  2020-01-22  Snohomish  Washington  53061.0      1       0\n",
       "2  2020-01-23  Snohomish  Washington  53061.0      1       0\n",
       "3  2020-01-24       Cook    Illinois  17031.0      1       0\n",
       "4  2020-01-24  Snohomish  Washington  53061.0      1       0"
      ]
     },
     "execution_count": 5,
     "metadata": {},
     "output_type": "execute_result"
    }
   ],
   "source": [
    "#To display first n rows of a dataframe, we use head(n) function.\n",
    "df.head(5)"
   ]
  },
  {
   "cell_type": "code",
   "execution_count": 6,
   "metadata": {},
   "outputs": [
    {
     "name": "stdout",
     "output_type": "stream",
     "text": [
      "<class 'pandas.core.frame.DataFrame'>\n",
      "RangeIndex: 67456 entries, 0 to 67455\n",
      "Data columns (total 6 columns):\n",
      " #   Column  Non-Null Count  Dtype  \n",
      "---  ------  --------------  -----  \n",
      " 0   date    67456 non-null  object \n",
      " 1   county  67456 non-null  object \n",
      " 2   state   67456 non-null  object \n",
      " 3   fips    66585 non-null  float64\n",
      " 4   cases   67456 non-null  int64  \n",
      " 5   deaths  67456 non-null  int64  \n",
      "dtypes: float64(1), int64(2), object(3)\n",
      "memory usage: 3.1+ MB\n"
     ]
    }
   ],
   "source": [
    "#info() function gives us some information about dataframe such as number of entries, \n",
    "#columns, what type of data stored in those columns\n",
    "df.info()"
   ]
  },
  {
   "cell_type": "code",
   "execution_count": 10,
   "metadata": {},
   "outputs": [
    {
     "data": {
      "text/plain": [
       "0        0\n",
       "1        0\n",
       "2        0\n",
       "3        0\n",
       "4        0\n",
       "        ..\n",
       "67451    0\n",
       "67452    0\n",
       "67453    0\n",
       "67454    0\n",
       "67455    0\n",
       "Name: deaths, Length: 67456, dtype: int64"
      ]
     },
     "execution_count": 10,
     "metadata": {},
     "output_type": "execute_result"
    }
   ],
   "source": [
    "#We may want to do operations on the data. For example, we might want to learn total deaths.\n",
    "#To do that, we should first select \"deaths\" column.\n",
    "#To select a column of a dataframe, we use dataFrameName[\"columnname\"]\n",
    "df[\"deaths\"]"
   ]
  },
  {
   "cell_type": "code",
   "execution_count": 11,
   "metadata": {},
   "outputs": [
    {
     "data": {
      "text/plain": [
       "313131"
      ]
     },
     "execution_count": 11,
     "metadata": {},
     "output_type": "execute_result"
    }
   ],
   "source": [
    "#To sum all the values, in that column we can use sum() function.\n",
    "df[\"deaths\"].sum()"
   ]
  },
  {
   "cell_type": "code",
   "execution_count": 12,
   "metadata": {},
   "outputs": [
    {
     "data": {
      "text/plain": [
       "0         1\n",
       "1         1\n",
       "2         1\n",
       "3         1\n",
       "4         1\n",
       "         ..\n",
       "67451     1\n",
       "67452    10\n",
       "67453    61\n",
       "67454     6\n",
       "67455     4\n",
       "Name: cases, Length: 67456, dtype: int64"
      ]
     },
     "execution_count": 12,
     "metadata": {},
     "output_type": "execute_result"
    }
   ],
   "source": [
    "#You can also use . to select a column. dataFrame.columnName\n",
    "df.cases"
   ]
  },
  {
   "cell_type": "code",
   "execution_count": 13,
   "metadata": {},
   "outputs": [
    {
     "data": {
      "text/plain": [
       "0        False\n",
       "1        False\n",
       "2        False\n",
       "3        False\n",
       "4        False\n",
       "         ...  \n",
       "67451    False\n",
       "67452    False\n",
       "67453    False\n",
       "67454    False\n",
       "67455    False\n",
       "Name: deaths, Length: 67456, dtype: bool"
      ]
     },
     "execution_count": 13,
     "metadata": {},
     "output_type": "execute_result"
    }
   ],
   "source": [
    "#We may also want to display rows that satisfy a certain condition. For example, we can display the rows where deaths are higher\n",
    "#than 100\n",
    "#If we select deaths column and wanna check which rows are higher than 100, we use > operator. This will result a True or a False\n",
    "#for each row. If the deaths>100 for the row, it will result in True, otherwise it will result in False.\n",
    "df[\"deaths\"]>100"
   ]
  },
  {
   "cell_type": "code",
   "execution_count": 14,
   "metadata": {},
   "outputs": [
    {
     "data": {
      "text/html": [
       "<div>\n",
       "<style scoped>\n",
       "    .dataframe tbody tr th:only-of-type {\n",
       "        vertical-align: middle;\n",
       "    }\n",
       "\n",
       "    .dataframe tbody tr th {\n",
       "        vertical-align: top;\n",
       "    }\n",
       "\n",
       "    .dataframe thead th {\n",
       "        text-align: right;\n",
       "    }\n",
       "</style>\n",
       "<table border=\"1\" class=\"dataframe\">\n",
       "  <thead>\n",
       "    <tr style=\"text-align: right;\">\n",
       "      <th></th>\n",
       "      <th>date</th>\n",
       "      <th>county</th>\n",
       "      <th>state</th>\n",
       "      <th>fips</th>\n",
       "      <th>cases</th>\n",
       "      <th>deaths</th>\n",
       "    </tr>\n",
       "  </thead>\n",
       "  <tbody>\n",
       "    <tr>\n",
       "      <th>9015</th>\n",
       "      <td>2020-03-23</td>\n",
       "      <td>New York City</td>\n",
       "      <td>New York</td>\n",
       "      <td>NaN</td>\n",
       "      <td>12305</td>\n",
       "      <td>131</td>\n",
       "    </tr>\n",
       "    <tr>\n",
       "      <th>10326</th>\n",
       "      <td>2020-03-24</td>\n",
       "      <td>New York City</td>\n",
       "      <td>New York</td>\n",
       "      <td>NaN</td>\n",
       "      <td>14905</td>\n",
       "      <td>192</td>\n",
       "    </tr>\n",
       "    <tr>\n",
       "      <th>11767</th>\n",
       "      <td>2020-03-25</td>\n",
       "      <td>New York City</td>\n",
       "      <td>New York</td>\n",
       "      <td>NaN</td>\n",
       "      <td>20011</td>\n",
       "      <td>280</td>\n",
       "    </tr>\n",
       "    <tr>\n",
       "      <th>12298</th>\n",
       "      <td>2020-03-25</td>\n",
       "      <td>King</td>\n",
       "      <td>Washington</td>\n",
       "      <td>53033.0</td>\n",
       "      <td>1360</td>\n",
       "      <td>101</td>\n",
       "    </tr>\n",
       "    <tr>\n",
       "      <th>13380</th>\n",
       "      <td>2020-03-26</td>\n",
       "      <td>New York City</td>\n",
       "      <td>New York</td>\n",
       "      <td>NaN</td>\n",
       "      <td>23112</td>\n",
       "      <td>365</td>\n",
       "    </tr>\n",
       "    <tr>\n",
       "      <th>...</th>\n",
       "      <td>...</td>\n",
       "      <td>...</td>\n",
       "      <td>...</td>\n",
       "      <td>...</td>\n",
       "      <td>...</td>\n",
       "      <td>...</td>\n",
       "    </tr>\n",
       "    <tr>\n",
       "      <th>66358</th>\n",
       "      <td>2020-04-17</td>\n",
       "      <td>Westchester</td>\n",
       "      <td>New York</td>\n",
       "      <td>36119.0</td>\n",
       "      <td>22476</td>\n",
       "      <td>738</td>\n",
       "    </tr>\n",
       "    <tr>\n",
       "      <th>66717</th>\n",
       "      <td>2020-04-17</td>\n",
       "      <td>Montgomery</td>\n",
       "      <td>Pennsylvania</td>\n",
       "      <td>42091.0</td>\n",
       "      <td>2684</td>\n",
       "      <td>135</td>\n",
       "    </tr>\n",
       "    <tr>\n",
       "      <th>66722</th>\n",
       "      <td>2020-04-17</td>\n",
       "      <td>Philadelphia</td>\n",
       "      <td>Pennsylvania</td>\n",
       "      <td>42101.0</td>\n",
       "      <td>8563</td>\n",
       "      <td>298</td>\n",
       "    </tr>\n",
       "    <tr>\n",
       "      <th>67298</th>\n",
       "      <td>2020-04-17</td>\n",
       "      <td>King</td>\n",
       "      <td>Washington</td>\n",
       "      <td>53033.0</td>\n",
       "      <td>4904</td>\n",
       "      <td>333</td>\n",
       "    </tr>\n",
       "    <tr>\n",
       "      <th>67406</th>\n",
       "      <td>2020-04-17</td>\n",
       "      <td>Milwaukee</td>\n",
       "      <td>Wisconsin</td>\n",
       "      <td>55079.0</td>\n",
       "      <td>2013</td>\n",
       "      <td>120</td>\n",
       "    </tr>\n",
       "  </tbody>\n",
       "</table>\n",
       "<p>424 rows × 6 columns</p>\n",
       "</div>"
      ],
      "text/plain": [
       "             date         county         state     fips  cases  deaths\n",
       "9015   2020-03-23  New York City      New York      NaN  12305     131\n",
       "10326  2020-03-24  New York City      New York      NaN  14905     192\n",
       "11767  2020-03-25  New York City      New York      NaN  20011     280\n",
       "12298  2020-03-25           King    Washington  53033.0   1360     101\n",
       "13380  2020-03-26  New York City      New York      NaN  23112     365\n",
       "...           ...            ...           ...      ...    ...     ...\n",
       "66358  2020-04-17    Westchester      New York  36119.0  22476     738\n",
       "66717  2020-04-17     Montgomery  Pennsylvania  42091.0   2684     135\n",
       "66722  2020-04-17   Philadelphia  Pennsylvania  42101.0   8563     298\n",
       "67298  2020-04-17           King    Washington  53033.0   4904     333\n",
       "67406  2020-04-17      Milwaukee     Wisconsin  55079.0   2013     120\n",
       "\n",
       "[424 rows x 6 columns]"
      ]
     },
     "execution_count": 14,
     "metadata": {},
     "output_type": "execute_result"
    }
   ],
   "source": [
    "#As you now know we use dataFrame[\"...\"] for selection. To select rows satisfying a certain condition, we use this syntax:\n",
    "df[df[\"deaths\"]>100]\n",
    "#This might seem confusing at the moment, but it basically means select all rows which results in True\n",
    "#at the end of inner operation"
   ]
  },
  {
   "cell_type": "code",
   "execution_count": 19,
   "metadata": {},
   "outputs": [
    {
     "data": {
      "text/plain": [
       "state\n",
       "Alabama                       1386\n",
       "Alaska                          94\n",
       "Arizona                       1655\n",
       "Arkansas                       438\n",
       "California                   10724\n",
       "Colorado                      4209\n",
       "Connecticut                   7809\n",
       "Delaware                       512\n",
       "District of Columbia           723\n",
       "Florida                       6953\n",
       "Georgia                       7213\n",
       "Guam                            89\n",
       "Hawaii                         104\n",
       "Idaho                          429\n",
       "Illinois                     10068\n",
       "Indiana                       4639\n",
       "Iowa                           566\n",
       "Kansas                         814\n",
       "Kentucky                      1430\n",
       "Louisiana                    13205\n",
       "Maine                          283\n",
       "Maryland                      3070\n",
       "Massachusetts                10407\n",
       "Michigan                     20736\n",
       "Minnesota                      926\n",
       "Mississippi                   1367\n",
       "Missouri                      1735\n",
       "Montana                        115\n",
       "Nebraska                       261\n",
       "Nevada                        1583\n",
       "New Hampshire                  336\n",
       "New Jersey                   32201\n",
       "New Mexico                     383\n",
       "New York                    128080\n",
       "North Carolina                1261\n",
       "North Dakota                   107\n",
       "Northern Mariana Islands        28\n",
       "Ohio                          3889\n",
       "Oklahoma                      1441\n",
       "Oregon                         839\n",
       "Pennsylvania                  7492\n",
       "Puerto Rico                    587\n",
       "Rhode Island                   875\n",
       "South Carolina                1281\n",
       "South Dakota                   109\n",
       "Tennessee                     1568\n",
       "Texas                         4308\n",
       "Utah                           258\n",
       "Vermont                        509\n",
       "Virgin Islands                  13\n",
       "Virginia                      1916\n",
       "Washington                    9872\n",
       "West Virginia                  109\n",
       "Wisconsin                     2118\n",
       "Wyoming                          8\n",
       "Name: deaths, dtype: int64"
      ]
     },
     "execution_count": 19,
     "metadata": {},
     "output_type": "execute_result"
    }
   ],
   "source": [
    "#We can also want to see the deaths according to states for example. To do that, first we group the data according to state\n",
    "#then for each state, we choose the deaths column and we sum them.\n",
    "df.groupby(\"state\")[\"deaths\"].sum()"
   ]
  },
  {
   "cell_type": "code",
   "execution_count": 20,
   "metadata": {},
   "outputs": [],
   "source": [
    "#To display the graphs that we will plot, we should add this to our notebook.\n",
    "%matplotlib inline"
   ]
  },
  {
   "cell_type": "code",
   "execution_count": 21,
   "metadata": {},
   "outputs": [
    {
     "data": {
      "text/plain": [
       "date\n",
       "2020-01-21        0\n",
       "2020-01-22        0\n",
       "2020-01-23        0\n",
       "2020-01-24        0\n",
       "2020-01-25        0\n",
       "              ...  \n",
       "2020-04-13    23608\n",
       "2020-04-14    26081\n",
       "2020-04-15    28585\n",
       "2020-04-16    30786\n",
       "2020-04-17    32889\n",
       "Name: deaths, Length: 88, dtype: int64"
      ]
     },
     "execution_count": 21,
     "metadata": {},
     "output_type": "execute_result"
    }
   ],
   "source": [
    "#Assume we want to plot a line graph that dipslays deaths by date. Our x axes values will be dates and our y axes values\n",
    "#will be deaths belonging to this data.\n",
    "#First we need to acquire total deaths for each day. Similar to what we have done above, we will group data by dates, then we\n",
    "#will select deaths column and sum the values\n",
    "deaths = df.groupby(\"date\")[\"deaths\"].sum()\n",
    "deaths"
   ]
  },
  {
   "cell_type": "code",
   "execution_count": 37,
   "metadata": {},
   "outputs": [
    {
     "data": {
      "image/png": "[encoded data removed]",
      "text/plain": [
       "<Figure size 432x288 with 1 Axes>"
      ]
     },
     "metadata": {
      "needs_background": "light"
     },
     "output_type": "display_data"
    }
   ],
   "source": [
    "#As you can see in the dataframe, our dates are not unique, because the results were given state by state. To only have unique\n",
    "#dates as labels, after selecting date column, we will drop duplicates.\n",
    "dates = df[\"date\"].drop_duplicates()\n",
    "#To plot a line graph with pyplot, we use plt.plot(x_values, y_values) function.\n",
    "plt.plot(dates, deaths)\n",
    "#To put labels to axes\n",
    "plt.xlabel(\"Date\")\n",
    "plt.ylabel(\"Deaths\")\n",
    "plt.show()"
   ]
  },
  {
   "cell_type": "code",
   "execution_count": 47,
   "metadata": {
    "scrolled": true
   },
   "outputs": [
    {
     "data": {
      "image/png": "[encoded data removed]",
      "text/plain": [
       "<Figure size 1296x1296 with 1 Axes>"
      ]
     },
     "metadata": {
      "needs_background": "light"
     },
     "output_type": "display_data"
    }
   ],
   "source": [
    "#We may want to see cases across states with a bar graph.\n",
    "plt.subplots(figsize=(18,18)) #We can set the size of the graph like that.\n",
    "plt.barh(df[\"state\"].drop_duplicates(), df.groupby(\"state\")[\"cases\"].sum())\n",
    "plt.show()"
   ]
  },
  {
   "cell_type": "code",
   "execution_count": null,
   "metadata": {},
   "outputs": [],
   "source": []
  },
  {
   "cell_type": "code",
   "execution_count": null,
   "metadata": {},
   "outputs": [],
   "source": []
  },
  {
   "cell_type": "code",
   "execution_count": null,
   "metadata": {},
   "outputs": [],
   "source": []
  }
 ],
 "metadata": {
  "kernelspec": {
   "display_name": "Python 3",
   "language": "python",
   "name": "python3"
  },
  "language_info": {
   "codemirror_mode": {
    "name": "ipython",
    "version": 3
   },
   "file_extension": ".py",
   "mimetype": "text/x-python",
   "name": "python",
   "nbconvert_exporter": "python",
   "pygments_lexer": "ipython3",
   "version": "3.7.6"
  }
 },
 "nbformat": 4,
 "nbformat_minor": 4
}
